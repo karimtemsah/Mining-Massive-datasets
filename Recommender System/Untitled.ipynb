{
 "cells": [
  {
   "cell_type": "code",
   "execution_count": 2,
   "metadata": {},
   "outputs": [],
   "source": [
    "import numpy as np"
   ]
  },
  {
   "cell_type": "code",
   "execution_count": 3,
   "metadata": {},
   "outputs": [
    {
     "name": "stdout",
     "output_type": "stream",
     "text": [
      "0 4\n",
      "0 5\n",
      "0 6\n",
      "0 7\n",
      "1 4\n",
      "1 5\n",
      "1 6\n",
      "1 7\n",
      "2 4\n",
      "2 5\n",
      "2 6\n",
      "2 7\n",
      "3 4\n",
      "3 5\n",
      "3 6\n",
      "3 7\n",
      "4 5\n",
      "4 6\n",
      "4 7\n",
      "5 6\n",
      "5 7\n",
      "6 7\n"
     ]
    },
    {
     "data": {
      "text/plain": [
       "[[0.0, 1.0, 1.0, 1.0, 4.0, 1.0, 7.0, 4.0],\n",
       " [1.0, 0.0, 1.0, 1.0, 9.0, 0.0, 3.0, 8.0],\n",
       " [1.0, 1.0, 0.0, 1.0, 3.0, 6.0, 5.0, 5.0],\n",
       " [1.0, 1.0, 1.0, 0.0, 1.0, 2.0, 0.0, 7.0],\n",
       " [4.0, 9.0, 3.0, 1.0, 0.0, 0.0, 2.0, 7.0],\n",
       " [1.0, 0.0, 6.0, 2.0, 0.0, 0.0, 4.0, 2.0],\n",
       " [7.0, 3.0, 5.0, 0.0, 2.0, 4.0, 0.0, 3.0],\n",
       " [4.0, 8.0, 5.0, 7.0, 7.0, 2.0, 3.0, 0.0]]"
      ]
     },
     "execution_count": 3,
     "metadata": {},
     "output_type": "execute_result"
    }
   ],
   "source": [
    "number_of_pages = 4\n",
    "k = 1\n",
    "limit = 4\n",
    "pages = None\n",
    "pages = np.ones((number_of_pages, number_of_pages))\n",
    "pages[[0,1,2,3], [[0,1,2,3]]] = 0\n",
    "pages_2 = np.zeros((8, 8))\n",
    "pages_2[:pages.shape[0], :pages.shape[1]] = pages\n",
    "for i in range(pages_2.shape[0]):\n",
    "    for j in range(((i+1)*((k==0) or (i+1>k*limit)) + (k*limit)*(k!=0)*(i+1 <= k*limit)), pages_2.shape[1]):\n",
    "        print(i,j)\n",
    "        pages_2[i,j] = np.random.randint(10)\n",
    "        pages_2[j,i] = pages_2[i,j]\n",
    "                \n",
    "pages_2.tolist()"
   ]
  },
  {
   "cell_type": "code",
   "execution_count": 31,
   "metadata": {},
   "outputs": [
    {
     "name": "stdout",
     "output_type": "stream",
     "text": [
      "aaa\n"
     ]
    }
   ],
   "source": [
    "a = {}\n",
    "if not a:\n",
    "    print('aaa')"
   ]
  },
  {
   "cell_type": "code",
   "execution_count": 37,
   "metadata": {},
   "outputs": [
    {
     "name": "stdout",
     "output_type": "stream",
     "text": [
      "koss\n",
      "koss\n",
      "koss\n",
      "koss\n",
      "hello world\n",
      "koss\n",
      "foofoo\n"
     ]
    }
   ],
   "source": [
    "import time\n",
    "def foo(bar, baz):\n",
    "    time.sleep(5)\n",
    "    print ('hello {0}'.format(bar))\n",
    "    return 'foo' + baz\n",
    "\n",
    "from multiprocessing.pool import ThreadPool\n",
    "pool = ThreadPool(processes=1)\n",
    "\n",
    "async_result = pool.apply_async(foo, ('world', 'foo')) # tuple of args for foo\n",
    "\n",
    "for i in range(0,5):\n",
    "    time.sleep(1)\n",
    "    print('koss')\n",
    "return_val = async_result.get()  # get the return value from your function.\n",
    "print(return_val)\n",
    "\n"
   ]
  },
  {
   "cell_type": "code",
   "execution_count": 38,
   "metadata": {},
   "outputs": [],
   "source": [
    "class WebPage:\n",
    "\n",
    "    def __init__(self, link, soup_object, headers, logged_in):\n",
    "        \"\"\"\n",
    "        :param link: the URL of the webpage\n",
    "        :param soup_object: The HTML source\n",
    "        :param headers: header fields accompanied with the page\n",
    "        :param logged_in: flag to indicate login\n",
    "        \"\"\"\n",
    "        self.link = link\n",
    "        self.soup = soup_object\n",
    "        self.headers = headers\n",
    "        self.logged_in = logged_in\n",
    "        # saves the xpaths for every HTML tag\n",
    "        self.xpaths = {}\n",
    "        # save the general path (without numbering) of every html tag\n",
    "        self.xpaths_general = {}\n",
    "        # saves the forms accompanied with every page\n",
    "        self.forms = {}"
   ]
  },
  {
   "cell_type": "code",
   "execution_count": 54,
   "metadata": {},
   "outputs": [
    {
     "name": "stdout",
     "output_type": "stream",
     "text": [
      "example.com\n",
      "example2.com\n",
      "example3.com\n",
      "example3.com\n",
      "example4.com\n",
      "example.com\n"
     ]
    }
   ],
   "source": [
    "import copy\n",
    "p1 = WebPage('example.com', None, None, False)\n",
    "p2 = WebPage('example2.com', None, None, False)\n",
    "p3 = WebPage('example3.com', None, None, False)\n",
    "p4 = WebPage('example4.com', None, None, False)\n",
    "list1 = [p1,p2,p3,p4]\n",
    "list1 = [p1,p2,p3,p3, p4, p1]\n",
    "for page in list1:\n",
    "    print(page.link)"
   ]
  },
  {
   "cell_type": "code",
   "execution_count": null,
   "metadata": {},
   "outputs": [],
   "source": []
  },
  {
   "cell_type": "code",
   "execution_count": null,
   "metadata": {},
   "outputs": [],
   "source": []
  }
 ],
 "metadata": {
  "kernelspec": {
   "display_name": "Python 3",
   "language": "python",
   "name": "python3"
  },
  "language_info": {
   "codemirror_mode": {
    "name": "ipython",
    "version": 3
   },
   "file_extension": ".py",
   "mimetype": "text/x-python",
   "name": "python",
   "nbconvert_exporter": "python",
   "pygments_lexer": "ipython3",
   "version": "3.6.4"
  }
 },
 "nbformat": 4,
 "nbformat_minor": 2
}
