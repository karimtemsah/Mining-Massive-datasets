{
 "cells": [
  {
   "cell_type": "markdown",
   "metadata": {},
   "source": [
    "# Project task 04:  Restaurant ranking"
   ]
  },
  {
   "cell_type": "code",
   "execution_count": 1,
   "metadata": {},
   "outputs": [],
   "source": [
    "import numpy as np\n",
    "import scipy.sparse as sp\n",
    "from sklearn.preprocessing import normalize"
   ]
  },
  {
   "cell_type": "markdown",
   "metadata": {},
   "source": [
    "The goal of this task is to rank restaurants using the **PageRank** algorithm. You are given a directed weighted graph where each node represents one restaurant. The edges in this graph are based on users reviews.\n",
    "\n",
    "Additionally for each restaurant you are given the categories it belongs to, i.e. 'Mexican', 'Italian', etc. Note that each restaurant can belong to multiple categories.\n",
    "\n",
    "Considering these categories as topics you will perform **Topic-Specific PageRank**, enabling you to e.g. find the top 10 'Mexican' restaurants."
   ]
  },
  {
   "cell_type": "markdown",
   "metadata": {},
   "source": [
    "## 1. Load data\n",
    "\n",
    "* The graph is stored as a sparse adjacency matrix $A$\n",
    "* The categories are stored in a binary sparse matrix $C$, with $C_{ij}=1$ indicating that restaurant $i$ belongs to category $j$\n",
    "* We also provide you with a dictionary mapping each category to its corresponding column index in $C$\n",
    "* The name of each restaurant is provided as a list, with the i-th element in the list corresponding to the i-th node in the graph"
   ]
  },
  {
   "cell_type": "code",
   "execution_count": 2,
   "metadata": {},
   "outputs": [
    {
     "data": {
      "text/plain": [
       "<7073x7073 sparse matrix of type '<class 'numpy.float64'>'\n",
       "\twith 1682844 stored elements in Compressed Sparse Row format>"
      ]
     },
     "execution_count": 2,
     "metadata": {},
     "output_type": "execute_result"
    }
   ],
   "source": [
    "A = sp.load_npz('restaurant_graph.npz')\n",
    "A"
   ]
  },
  {
   "cell_type": "code",
   "execution_count": 3,
   "metadata": {},
   "outputs": [
    {
     "data": {
      "text/plain": [
       "<7073x138 sparse matrix of type '<class 'numpy.float64'>'\n",
       "\twith 19047 stored elements in Compressed Sparse Row format>"
      ]
     },
     "execution_count": 3,
     "metadata": {},
     "output_type": "execute_result"
    }
   ],
   "source": [
    "C = sp.load_npz('restaurant_categories.npz')\n",
    "C"
   ]
  },
  {
   "cell_type": "code",
   "execution_count": 4,
   "metadata": {},
   "outputs": [
    {
     "data": {
      "text/plain": [
       "(3, 14)"
      ]
     },
     "execution_count": 4,
     "metadata": {},
     "output_type": "execute_result"
    }
   ],
   "source": [
    "categories = np.load('categories.npy').tolist()\n",
    "categories['Mexican'], categories['Chinese']"
   ]
  },
  {
   "cell_type": "code",
   "execution_count": 5,
   "metadata": {},
   "outputs": [
    {
     "data": {
      "text/plain": [
       "array(['Alize Catering', 'Chula Taberna Mexicana', 'Sunnyside Grill'],\n",
       "      dtype='<U50')"
      ]
     },
     "execution_count": 5,
     "metadata": {},
     "output_type": "execute_result"
    }
   ],
   "source": [
    "names = np.load('restaurant_names.npy')\n",
    "names[:3]"
   ]
  },
  {
   "cell_type": "code",
   "execution_count": 6,
   "metadata": {},
   "outputs": [],
   "source": [
    "assert A.shape[0] == len(names) == C.shape[0]\n",
    "assert C.shape[1] == len(categories)"
   ]
  },
  {
   "cell_type": "markdown",
   "metadata": {},
   "source": [
    " ## 2. Determine the teleport set\n",
    " \n",
    "\n",
    "Given a list of topics of intereset, i.e. `['Mexican', 'Italian', ...]`, implement a helper function to return all the restaurants that belong to **at least one** of these topics. These restaurants will become part of the teleport set in Topic-Specific PageRank."
   ]
  },
  {
   "cell_type": "code",
   "execution_count": 38,
   "metadata": {},
   "outputs": [],
   "source": [
    "def teleport_set(C, topics, categories):\n",
    "    \"\"\"\n",
    "    Finds the teleport set consisting of restaurants that belong to at least one of the specified topics.\n",
    "    \n",
    "    Parameters\n",
    "    ----------\n",
    "    C             : sp.spmatrix, shape [num_restaurants, num_categories]\n",
    "                    Binary matrix encoding which restaurants belongs to which categories.\n",
    "    topics        : List[string]\n",
    "                    List of topics of interest.\n",
    "    categories    : dict(string, int)\n",
    "                    Dictionary mapping each category to its corresponding column index in C.\n",
    "        \n",
    "    Returns\n",
    "    -------\n",
    "    teleport_idx : np.array, shape [S]\n",
    "                   The indicies of the nodes in the teleport set.\n",
    "    \"\"\"\n",
    "    #### YOUR CODE ####\n",
    "    topics_indexes = [] \n",
    "    for topic in topics:\n",
    "        topics_indexes.append(categories[topic])\n",
    "#     teleport_idx = []    \n",
    "#     for i, j in zip(C.nonzero()[0], C.nonzero()[1]):\n",
    "#         if j in topics_indexes:\n",
    "#             teleport_idx.append(i)\n",
    "#     return np.unique(np.array(teleport_idx))\n",
    "    return np.unique(C.nonzero()[0][np.where(np.logical_or(C.nonzero()[1] == topics_indexes))[0]])"
   ]
  },
  {
   "cell_type": "markdown",
   "metadata": {},
   "source": [
    " ## 2. Implement Topic-Specific PageRank"
   ]
  },
  {
   "cell_type": "code",
   "execution_count": 30,
   "metadata": {},
   "outputs": [],
   "source": [
    "def page_rank(A, beta, teleport_idx=None, eps=1e-12):\n",
    "    \"\"\"\n",
    "    Implements Topic-Specific PageRank using power iteration and sparse matrix operations.\n",
    "    \n",
    "    Parameters\n",
    "    ----------\n",
    "    A           : sp.spmatrix, shape [num_restaurants, num_restaurants]\n",
    "                  The adjacency matrix representing the graph of restaurants.\n",
    "    beta        : float, \n",
    "                  0 < beta < 1, (1-beta) is the probabilty of teleporting to the nodes in the teleport set\n",
    "    teleport_idx: np.array, shape [S]\n",
    "                  The indicies of the nodes in the teleport set. If it equals to None\n",
    "                  it means runs standard PageRank, i.e. all nodes are in the teleport set.\n",
    "    \n",
    "    Returns\n",
    "    -------\n",
    "    r          : np.array, shape [num_restaurants]\n",
    "                 The page rank vector containing the page rank scores for each restaurant.\n",
    "    \"\"\"\n",
    "    \n",
    "    #### YOUR CODE ####\n",
    "    A = normalize(A, norm='l1', axis=0)\n",
    "    if teleport_idx is None:\n",
    "        teleport_idx = np.arange(A.shape[0])\n",
    "    r_old_norm = np.linalg.norm(np.repeat(1, A.shape[0]))  # random initialization\n",
    "    r = np.repeat(1/A.shape[0], A.shape[0])\n",
    "    while np.abs(r_old_norm - np.linalg.norm(r)) > eps:\n",
    "        r_old_norm = np.linalg.norm(r)\n",
    "        r = beta * A * r\n",
    "        r[teleport_idx] += (1 - beta)/teleport_idx.shape[0]    \n",
    "    return r"
   ]
  },
  {
   "cell_type": "markdown",
   "metadata": {},
   "source": [
    "### 3.1 Calculate the standard PageRank scores and print the names of the top 5 restaurants overall"
   ]
  },
  {
   "cell_type": "code",
   "execution_count": 31,
   "metadata": {},
   "outputs": [],
   "source": [
    "idx_to_category = {v:k for k, v in categories.items()}"
   ]
  },
  {
   "cell_type": "code",
   "execution_count": 32,
   "metadata": {},
   "outputs": [
    {
     "name": "stdout",
     "output_type": "stream",
     "text": [
      "1 Congee Me \n",
      "  Categories:  ['Korean']\n",
      "2 Go Go China \n",
      "  Categories:  ['Chinese']\n",
      "3 Sushi Making For the Soul \n",
      "  Categories:  ['Japanese']\n",
      "4 Spring Rolls \n",
      "  Categories:  ['African']\n",
      "5 Happy Tummy Filipino Cuisine \n",
      "  Categories:  ['Chinese']\n"
     ]
    }
   ],
   "source": [
    "r = page_rank(A=A, beta=0.6, teleport_idx=None)\n",
    "\n",
    "for i, x in enumerate(r.argsort()[-5:]):\n",
    "    print(i+1, names[x], '\\n  Categories: ', [idx_to_category[cat] for cat in C[x].nonzero()[1]])"
   ]
  },
  {
   "cell_type": "markdown",
   "metadata": {},
   "source": [
    "### 3.2 Calculate the standard PageRank scores and print the names of top 5 Mexican restaurants"
   ]
  },
  {
   "cell_type": "code",
   "execution_count": 33,
   "metadata": {},
   "outputs": [
    {
     "name": "stdout",
     "output_type": "stream",
     "text": [
      "1 Chill \n",
      "  Categories:  ['Mexican']\n",
      "2 El Taquito \n",
      "  Categories:  ['Mexican']\n",
      "3 The Atlantic \n",
      "  Categories:  ['Fast Food', 'Mexican']\n",
      "4 Burrito Loco \n",
      "  Categories:  ['Mexican']\n",
      "5 El Takito \n",
      "  Categories:  ['Mexican']\n"
     ]
    }
   ],
   "source": [
    "teleport_idx = teleport_set(C, ['Mexican'], categories)\n",
    "r = page_rank(A=A, beta=0.6, teleport_idx=teleport_idx)\n",
    "\n",
    "for i, x in enumerate(r.argsort()[-5:]):\n",
    "    print(i+1, names[x], '\\n  Categories: ', [idx_to_category[cat] for cat in C[x].nonzero()[1]])"
   ]
  },
  {
   "cell_type": "markdown",
   "metadata": {},
   "source": [
    "### 3.3 Calculate the standard PageRank scores and print the names of top 5 Italian or French restaurants\n"
   ]
  },
  {
   "cell_type": "code",
   "execution_count": 39,
   "metadata": {},
   "outputs": [
    {
     "name": "stderr",
     "output_type": "stream",
     "text": [
      "/anaconda3/envs/mmds_virtual/lib/python3.6/site-packages/ipykernel_launcher.py:28: DeprecationWarning: elementwise == comparison failed; this will raise an error in the future.\n"
     ]
    },
    {
     "ename": "ValueError",
     "evalue": "invalid number of arguments",
     "output_type": "error",
     "traceback": [
      "\u001b[0;31m---------------------------------------------------------------------------\u001b[0m",
      "\u001b[0;31mValueError\u001b[0m                                Traceback (most recent call last)",
      "\u001b[0;32m<ipython-input-39-3064a5b9ebbe>\u001b[0m in \u001b[0;36m<module>\u001b[0;34m()\u001b[0m\n\u001b[0;32m----> 1\u001b[0;31m \u001b[0mteleport_idx\u001b[0m \u001b[0;34m=\u001b[0m \u001b[0mteleport_set\u001b[0m\u001b[0;34m(\u001b[0m\u001b[0mC\u001b[0m\u001b[0;34m,\u001b[0m \u001b[0;34m[\u001b[0m\u001b[0;34m'Italian'\u001b[0m\u001b[0;34m,\u001b[0m \u001b[0;34m'French'\u001b[0m\u001b[0;34m]\u001b[0m\u001b[0;34m,\u001b[0m \u001b[0mcategories\u001b[0m\u001b[0;34m)\u001b[0m\u001b[0;34m\u001b[0m\u001b[0m\n\u001b[0m\u001b[1;32m      2\u001b[0m \u001b[0mr\u001b[0m \u001b[0;34m=\u001b[0m \u001b[0mpage_rank\u001b[0m\u001b[0;34m(\u001b[0m\u001b[0mA\u001b[0m\u001b[0;34m=\u001b[0m\u001b[0mA\u001b[0m\u001b[0;34m,\u001b[0m \u001b[0mbeta\u001b[0m\u001b[0;34m=\u001b[0m\u001b[0;36m0.6\u001b[0m\u001b[0;34m,\u001b[0m \u001b[0mteleport_idx\u001b[0m\u001b[0;34m=\u001b[0m\u001b[0mteleport_idx\u001b[0m\u001b[0;34m)\u001b[0m\u001b[0;34m\u001b[0m\u001b[0m\n\u001b[1;32m      3\u001b[0m \u001b[0;34m\u001b[0m\u001b[0m\n\u001b[1;32m      4\u001b[0m \u001b[0;32mfor\u001b[0m \u001b[0mi\u001b[0m\u001b[0;34m,\u001b[0m \u001b[0mx\u001b[0m \u001b[0;32min\u001b[0m \u001b[0menumerate\u001b[0m\u001b[0;34m(\u001b[0m\u001b[0mr\u001b[0m\u001b[0;34m.\u001b[0m\u001b[0margsort\u001b[0m\u001b[0;34m(\u001b[0m\u001b[0;34m)\u001b[0m\u001b[0;34m[\u001b[0m\u001b[0;34m-\u001b[0m\u001b[0;36m5\u001b[0m\u001b[0;34m:\u001b[0m\u001b[0;34m]\u001b[0m\u001b[0;34m)\u001b[0m\u001b[0;34m:\u001b[0m\u001b[0;34m\u001b[0m\u001b[0m\n\u001b[1;32m      5\u001b[0m     \u001b[0mprint\u001b[0m\u001b[0;34m(\u001b[0m\u001b[0mi\u001b[0m\u001b[0;34m+\u001b[0m\u001b[0;36m1\u001b[0m\u001b[0;34m,\u001b[0m \u001b[0mnames\u001b[0m\u001b[0;34m[\u001b[0m\u001b[0mx\u001b[0m\u001b[0;34m]\u001b[0m\u001b[0;34m,\u001b[0m \u001b[0;34m'\\n  Categories: '\u001b[0m\u001b[0;34m,\u001b[0m \u001b[0;34m[\u001b[0m\u001b[0midx_to_category\u001b[0m\u001b[0;34m[\u001b[0m\u001b[0mcat\u001b[0m\u001b[0;34m]\u001b[0m \u001b[0;32mfor\u001b[0m \u001b[0mcat\u001b[0m \u001b[0;32min\u001b[0m \u001b[0mC\u001b[0m\u001b[0;34m[\u001b[0m\u001b[0mx\u001b[0m\u001b[0;34m]\u001b[0m\u001b[0;34m.\u001b[0m\u001b[0mnonzero\u001b[0m\u001b[0;34m(\u001b[0m\u001b[0;34m)\u001b[0m\u001b[0;34m[\u001b[0m\u001b[0;36m1\u001b[0m\u001b[0;34m]\u001b[0m\u001b[0;34m]\u001b[0m\u001b[0;34m)\u001b[0m\u001b[0;34m\u001b[0m\u001b[0m\n",
      "\u001b[0;32m<ipython-input-38-48b6b51f5275>\u001b[0m in \u001b[0;36mteleport_set\u001b[0;34m(C, topics, categories)\u001b[0m\n\u001b[1;32m     26\u001b[0m \u001b[0;31m#             teleport_idx.append(i)\u001b[0m\u001b[0;34m\u001b[0m\u001b[0;34m\u001b[0m\u001b[0m\n\u001b[1;32m     27\u001b[0m \u001b[0;31m#     return np.unique(np.array(teleport_idx))\u001b[0m\u001b[0;34m\u001b[0m\u001b[0;34m\u001b[0m\u001b[0m\n\u001b[0;32m---> 28\u001b[0;31m     \u001b[0;32mreturn\u001b[0m \u001b[0mnp\u001b[0m\u001b[0;34m.\u001b[0m\u001b[0munique\u001b[0m\u001b[0;34m(\u001b[0m\u001b[0mC\u001b[0m\u001b[0;34m.\u001b[0m\u001b[0mnonzero\u001b[0m\u001b[0;34m(\u001b[0m\u001b[0;34m)\u001b[0m\u001b[0;34m[\u001b[0m\u001b[0;36m0\u001b[0m\u001b[0;34m]\u001b[0m\u001b[0;34m[\u001b[0m\u001b[0mnp\u001b[0m\u001b[0;34m.\u001b[0m\u001b[0mwhere\u001b[0m\u001b[0;34m(\u001b[0m\u001b[0mnp\u001b[0m\u001b[0;34m.\u001b[0m\u001b[0mlogical_or\u001b[0m\u001b[0;34m(\u001b[0m\u001b[0mC\u001b[0m\u001b[0;34m.\u001b[0m\u001b[0mnonzero\u001b[0m\u001b[0;34m(\u001b[0m\u001b[0;34m)\u001b[0m\u001b[0;34m[\u001b[0m\u001b[0;36m1\u001b[0m\u001b[0;34m]\u001b[0m \u001b[0;34m==\u001b[0m \u001b[0mtopics_indexes\u001b[0m\u001b[0;34m)\u001b[0m\u001b[0;34m)\u001b[0m\u001b[0;34m[\u001b[0m\u001b[0;36m0\u001b[0m\u001b[0;34m]\u001b[0m\u001b[0;34m]\u001b[0m\u001b[0;34m)\u001b[0m\u001b[0;34m\u001b[0m\u001b[0m\n\u001b[0m",
      "\u001b[0;31mValueError\u001b[0m: invalid number of arguments"
     ]
    }
   ],
   "source": [
    "teleport_idx = teleport_set(C, ['Italian', 'French'], categories)\n",
    "r = page_rank(A=A, beta=0.6, teleport_idx=teleport_idx)\n",
    "\n",
    "for i, x in enumerate(r.argsort()[-5:]):\n",
    "    print(i+1, names[x], '\\n  Categories: ', [idx_to_category[cat] for cat in C[x].nonzero()[1]])"
   ]
  },
  {
   "cell_type": "code",
   "execution_count": null,
   "metadata": {},
   "outputs": [],
   "source": []
  }
 ],
 "metadata": {
  "kernelspec": {
   "display_name": "Python 3",
   "language": "python",
   "name": "python3"
  },
  "language_info": {
   "codemirror_mode": {
    "name": "ipython",
    "version": 3
   },
   "file_extension": ".py",
   "mimetype": "text/x-python",
   "name": "python",
   "nbconvert_exporter": "python",
   "pygments_lexer": "ipython3",
   "version": "3.6.4"
  }
 },
 "nbformat": 4,
 "nbformat_minor": 2
}
